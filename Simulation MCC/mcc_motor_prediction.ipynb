{
 "cells": [
  {
   "cell_type": "code",
   "execution_count": 88,
   "metadata": {
    "collapsed": true,
    "deletable": true,
    "editable": true
   },
   "outputs": [],
   "source": [
    "import numpy as np\n",
    "%matplotlib inline\n",
    "import matplotlib.pyplot as plt\n",
    "from scipy.integrate import odeint\n",
    "from scipy import signal"
   ]
  },
  {
   "cell_type": "markdown",
   "metadata": {
    "deletable": true,
    "editable": true
   },
   "source": [
    "# When Models hurt prediction : a DC motor trial (p.132/155)"
   ]
  },
  {
   "cell_type": "markdown",
   "metadata": {
    "deletable": true,
    "editable": true
   },
   "source": [
    "## Définition du modèle et simulation"
   ]
  },
  {
   "cell_type": "markdown",
   "metadata": {
    "deletable": true,
    "editable": true
   },
   "source": [
    "Modèle sous forme d'espace d'état :\n",
    "\n",
    "$\\begin{cases}\n",
    "\\frac{d}{dt}\\begin{bmatrix}i(t)\\\\\n",
    "\\omega_{R}(t)\n",
    "\\end{bmatrix} & =\\begin{bmatrix}-\\frac{R}{L} & -\\frac{K}{L}\\\\\n",
    "\\frac{K}{J} & -\\frac{f}{J}\n",
    "\\end{bmatrix}\\begin{bmatrix}i(t)\\\\\n",
    "\\omega_{R}(t)\n",
    "\\end{bmatrix}+\\begin{bmatrix}\\frac{1}{L} & 0\\\\\n",
    "0 & -\\frac{1}{J}\n",
    "\\end{bmatrix}\\begin{bmatrix}V_{S}(t)\\\\\n",
    "\\tau_{L}(t)\n",
    "\\end{bmatrix}\\\\\n",
    "\\begin{bmatrix}i_{obs}(t)\\\\\n",
    "\\omega_{Robs}(t)\\\\\n",
    "V_{Lobs}(t)\n",
    "\\end{bmatrix} & =\\begin{bmatrix}1 & 0\\\\\n",
    "0 & 1\\\\\n",
    "-R & -K\n",
    "\\end{bmatrix}\\begin{bmatrix}i(t)\\\\\n",
    "\\omega_{R}(t)\n",
    "\\end{bmatrix}+\\begin{bmatrix}0 & 0\\\\\n",
    "0 & 0\\\\\n",
    "1 & 0\n",
    "\\end{bmatrix}\\begin{bmatrix}V_{S}(t)\\\\\n",
    "\\tau_{L}(t)\n",
    "\\end{bmatrix}\n",
    "\\end{cases}$"
   ]
  },
  {
   "cell_type": "code",
   "execution_count": 89,
   "metadata": {
    "collapsed": false
   },
   "outputs": [],
   "source": [
    "def heaviside(x):\n",
    "    if x == 0:\n",
    "        return 0.5\n",
    "\n",
    "    return 0 if x < 0 else 1"
   ]
  },
  {
   "cell_type": "markdown",
   "metadata": {
    "deletable": true,
    "editable": true
   },
   "source": [
    "## Simulation sorties moteur"
   ]
  },
  {
   "cell_type": "code",
   "execution_count": 110,
   "metadata": {
    "collapsed": false
   },
   "outputs": [
    {
     "data": {
      "application/vnd.jupyter.widget-view+json": {
       "model_id": "c33a50768d4a46cb9919f403bd7515e7"
      }
     },
     "metadata": {},
     "output_type": "display_data"
    }
   ],
   "source": [
    "@interact\n",
    "def _(x0 = slider(0,10,10/100.0),\n",
    "    x1 = slider(0,1,1/100.0),\n",
    "    sim_duration = slider(10,30,default=10,label=\"Simulation duration\"),\n",
    "    sim_nb_samples = slider(10,100, default=100,label=\"Samples number\"),\n",
    "    steptime = slider(0,10,default=5,label=\"Step time\"),\n",
    "    stepgain = slider(-5,5,default=2,label=\"Step gain\"),\n",
    "    R = slider(0,2,2/100.0,default=1),\n",
    "    K = slider(0,0.02,0.02/100.0,default=0.01),\n",
    "    L = slider(0.5/100,1,1/100.0,default=0.5),\n",
    "    J = slider(0.01/100.0,0.02,0.02/100.0,default=0.01),\n",
    "    f = slider(0,0.2,0.2/100.0,default=0.1),\n",
    "    action=selector([\"MCC outputs\", \"RRA\\'s\"],label=\"Simulation choice\")):\n",
    "\n",
    "    ##### Modèle oracle\n",
    "    A = matrix([[ -R/L, -K/L ],\n",
    "            [ K/J , -f/J ]])\n",
    "    \n",
    "    B = matrix([[ 1/L , 0    ],\n",
    "                [ 0   , -1/J ]])\n",
    "\n",
    "    C = matrix([[ 1 , 0  ],\n",
    "                [ 0 , 1  ],\n",
    "                [ -R, -K ]])\n",
    "\n",
    "    D = matrix([[ 0, 0 ],\n",
    "                [ 0, 0 ],\n",
    "                [ 1, 0 ]])\n",
    "\n",
    "    ##### Modèle défectueux\n",
    "    Af = matrix([[ -R*1.3/L, -K/L+1 ],\n",
    "            [ K/J , -f/J ]])\n",
    "    \n",
    "    Bf = matrix([[ 1.2/L , 0    ],\n",
    "                [ 0   , -1/J ]])\n",
    "\n",
    "    Cf = matrix([[ 1 , 0  ],\n",
    "                [ 0 , 1  ],\n",
    "                [ -R, -K ]])\n",
    "\n",
    "    Df = matrix([[ 0, 0 ],\n",
    "                [ 0, 0 ],\n",
    "                [ 1, 0 ]])\n",
    "\n",
    "    ss_mcc = signal.lti(A,B,C,D)\n",
    "    ss_faulty_mcc = signal.lti(Af,Bf,Cf,Df)\n",
    "    \n",
    "    t = np.linspace(0,sim_duration,sim_nb_samples)\n",
    "    u1 = [stepgain*heaviside(x-steptime) for x in np.nditer(t)]\n",
    "    u2 = np.array(np.zeros_like(t))\n",
    "    U=np.vstack((u1,u2)).transpose()\n",
    "    X0 = (x0,x1)\n",
    "    tout, Y, X = signal.lsim(ss_mcc, U, t, X0)\n",
    "    tout, Yobs, Xobs = signal.lsim(ss_faulty_mcc, U, t, X0)\n",
    "    \n",
    "    # Nice examples of interactive calculus : https://wiki.sagemath.org/interact/calculus\n",
    "    # Plot help  : http://sage.brandoncurtis.com/plotting.html\n",
    "    # Plot help2 : http://doc.sagemath.org/html/en/reference/plotting/sage/plot/plot.html\n",
    "    # Matplotlib examples : http://matplotlib.org/examples/index.html\n",
    "    \n",
    "    if action == \"MCC outputs\":\n",
    "        f, axarr = plt.subplots(3, sharex=True, figsize=(10,6))\n",
    "\n",
    "        axarr[0].plot(t, Y[:,0], 'b')\n",
    "        axarr[0].grid(True)\n",
    "        axarr[0].set_ylabel('$i_{obs}(t)$',fontsize=20)\n",
    "\n",
    "        axarr[1].plot(t, Y[:,1], 'r')\n",
    "        axarr[1].grid(True)\n",
    "        axarr[1].set_ylabel('$\\omega_{R_{obs}}(t)$',fontsize=20)\n",
    "\n",
    "        axarr[2].plot(t, Y[:,2], 'g')\n",
    "        axarr[2].grid(True)\n",
    "        axarr[2].set_ylabel('$V_{L_{obs}}(t)$',fontsize=20)\n",
    "\n",
    "        plt.xlabel('Time (s)',fontsize=16)\n",
    "\n",
    "        f.subplots_adjust(hspace=0.3)\n",
    "\n",
    "        plt.show()\n",
    "    elif action == \"RRA\\'s\":\n",
    "        n = len(t)-2\n",
    "        U1 = np.zeros((n, 2))\n",
    "        U2 = np.zeros((n, 2))\n",
    "        Yobs1 = np.zeros((n, 3))\n",
    "        Yobs2 = np.zeros((n, 3))\n",
    "        Yobs3 = np.zeros((n, 3))\n",
    "        r_ar1 = np.zeros(n)\n",
    "        r_ar2 = np.zeros(n)\n",
    "        r_ar3 = np.zeros(n)\n",
    "        r_ir  = np.zeros(n)\n",
    "        r_1 = np.zeros_like(t)\n",
    "        r_2 = np.zeros_like(t)\n",
    "        r_3 = np.zeros_like(t)\n",
    "    \n",
    "        ##### Calcul des RRA's auto-redondantes et inter-redondante\n",
    "        for i in range(len(t)-2):\n",
    "            U1[i] = U[i,:]\n",
    "            U2[i] = U[i+1,:]\n",
    "            Yobs1[i] = Y[i,:]\n",
    "            Yobs2[i] = Y[i+1,:]\n",
    "            Yobs3[i] = Y[i+2,:]\n",
    "\n",
    "            ##### Calcul des valeurs des RRA's\n",
    "            r_ar1[i] = J*L*Yobs3[i,0] - J*U2[i,0] - U1[i,0]*f + (K^2 + R*f)*Yobs1[i,0] + (J*R + L*f)*Yobs2[i,0] - K*U1[i,1]\n",
    "            r_ar2[i] = J*L*Yobs3[i,1] - K*U1[i,0] + (K^2 + R*f)*Yobs1[i,1] + (J*R + L*f)*Yobs2[i,1] + R*U1[i,1] + L*U2[i,1]\n",
    "            r_ar3[i] = K^2*Yobs1[i,2] + J*R*Yobs2[i,2] + J*L*Yobs3[i,2] + K^2*U1[i,0] + J*R*U2[i,0] - K*L*U2[i,1] + (R*Yobs1[i,2] + L*Yobs2[i,2] + R*U1[i,0])*f\n",
    "            r_ir[i]  = J*L*Yobs2[i,2] + J*R*U1[i,0] - K*L*U1[i,1] + (J*R + L*f)*Yobs1[i,1] + (K^2*L + L*R*f)*Yobs1[i,0]\n",
    "\n",
    "        ##### Calcul des RRA's directes\n",
    "        for i in range(len(t)):\n",
    "            r_1[i] = R*Yobs[i,0] + K*Yobs[i,1] + Yobs[i,2] - U[i,0]\n",
    "            r_2[i] = Yobs[i,0] - Y[i,0]\n",
    "            r_3[i] = Yobs[i,1] - Y[i,1]\n",
    "\n",
    "        f, axarr = plt.subplots(7, sharex=True, figsize=(10,12))\n",
    "\n",
    "        axarr[0].plot(t[0:-2], r_ar1, 'b')\n",
    "        axarr[0].grid(True)\n",
    "        axarr[0].set_ylabel('$r_{ar1}(t)$',fontsize=20)\n",
    "\n",
    "        axarr[1].plot(t[0:-2], r_ar2, 'r')\n",
    "        axarr[1].grid(True)\n",
    "        axarr[1].set_ylabel('$r_{ar2}(t)$',fontsize=20)\n",
    "\n",
    "        axarr[2].plot(t[0:-2], r_ar3, 'g')\n",
    "        axarr[2].grid(True)\n",
    "        axarr[2].set_ylabel('$r_{ar3}(t)$',fontsize=20)\n",
    "\n",
    "        axarr[3].plot(t[0:-2], r_ir, 'g')\n",
    "        axarr[3].grid(True)\n",
    "        axarr[3].set_ylabel('$r_{ir}(t)$',fontsize=20)\n",
    "\n",
    "        axarr[4].plot(t, r_1, 'b')\n",
    "        axarr[4].grid(True)\n",
    "        axarr[4].set_ylabel('$r_{1}(t)$',fontsize=20)\n",
    "\n",
    "        axarr[5].plot(t, r_2, 'r')\n",
    "        axarr[5].grid(True)\n",
    "        axarr[5].set_ylabel('$r_{2}(t)$',fontsize=20)\n",
    "\n",
    "        axarr[6].plot(t, r_3, 'g')\n",
    "        axarr[6].grid(True)\n",
    "        axarr[6].set_ylabel('$r_{3}(t)$',fontsize=20)\n",
    "\n",
    "        plt.xlabel('Time (s)',fontsize=16)\n",
    "\n",
    "        f.subplots_adjust(hspace=0.3)\n",
    "\n",
    "        plt.show()"
   ]
  },
  {
   "cell_type": "code",
   "execution_count": null,
   "metadata": {
    "collapsed": true
   },
   "outputs": [],
   "source": []
  }
 ],
 "metadata": {
  "kernelspec": {
   "display_name": "SageMath 7.6",
   "language": "",
   "name": "sagemath"
  },
  "language_info": {
   "codemirror_mode": {
    "name": "ipython",
    "version": 2
   },
   "file_extension": ".py",
   "mimetype": "text/x-python",
   "name": "python",
   "nbconvert_exporter": "python",
   "pygments_lexer": "ipython2",
   "version": "2.7.13"
  }
 },
 "nbformat": 4,
 "nbformat_minor": 2
}
