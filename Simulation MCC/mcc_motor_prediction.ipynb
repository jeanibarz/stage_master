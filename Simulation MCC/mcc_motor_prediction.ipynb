{
 "cells": [
  {
   "cell_type": "code",
   "execution_count": 1,
   "metadata": {
    "collapsed": true,
    "deletable": true,
    "editable": true
   },
   "outputs": [],
   "source": [
    "import numpy as np\n",
    "%matplotlib inline\n",
    "import matplotlib.pyplot as plt\n",
    "from scipy.integrate import odeint\n",
    "from scipy import signal"
   ]
  },
  {
   "cell_type": "markdown",
   "metadata": {
    "deletable": true,
    "editable": true
   },
   "source": [
    "# When Models hurt prediction : a DC motor trial (p.132/155)"
   ]
  },
  {
   "cell_type": "markdown",
   "metadata": {
    "deletable": true,
    "editable": true
   },
   "source": [
    "## Définition du modèle et simulation"
   ]
  },
  {
   "cell_type": "markdown",
   "metadata": {
    "deletable": true,
    "editable": true
   },
   "source": [
    "Modèle sous forme d'espace d'état :\n",
    "\n",
    "$\\begin{cases}\n",
    "\\frac{d}{dt}\\begin{bmatrix}i(t)\\\\\n",
    "\\omega_{R}(t)\n",
    "\\end{bmatrix} & =\\begin{bmatrix}-\\frac{R}{L} & -\\frac{K}{L}\\\\\n",
    "\\frac{K}{J} & -\\frac{f}{J}\n",
    "\\end{bmatrix}\\begin{bmatrix}i(t)\\\\\n",
    "\\omega_{R}(t)\n",
    "\\end{bmatrix}+\\begin{bmatrix}\\frac{1}{L} & 0\\\\\n",
    "0 & -\\frac{1}{J}\n",
    "\\end{bmatrix}\\begin{bmatrix}V_{S}(t)\\\\\n",
    "\\tau_{L}(t)\n",
    "\\end{bmatrix}\\\\\n",
    "\\begin{bmatrix}i_{obs}(t)\\\\\n",
    "\\omega_{Robs}(t)\\\\\n",
    "V_{Lobs}(t)\n",
    "\\end{bmatrix} & =\\begin{bmatrix}1 & 0\\\\\n",
    "0 & 1\\\\\n",
    "-R & -K\n",
    "\\end{bmatrix}\\begin{bmatrix}i(t)\\\\\n",
    "\\omega_{R}(t)\n",
    "\\end{bmatrix}+\\begin{bmatrix}0 & 0\\\\\n",
    "0 & 0\\\\\n",
    "1 & 0\n",
    "\\end{bmatrix}\\begin{bmatrix}V_{S}(t)\\\\\n",
    "\\tau_{L}(t)\n",
    "\\end{bmatrix}\n",
    "\\end{cases}$"
   ]
  },
  {
   "cell_type": "code",
   "execution_count": 2,
   "metadata": {
    "collapsed": false
   },
   "outputs": [],
   "source": [
    "def heaviside(x):\n",
    "    if x == 0:\n",
    "        return 0.5\n",
    "\n",
    "    return 0 if x < 0 else 1"
   ]
  },
  {
   "cell_type": "markdown",
   "metadata": {
    "deletable": true,
    "editable": true
   },
   "source": [
    "## Simulation intéractive"
   ]
  },
  {
   "cell_type": "code",
   "execution_count": 60,
   "metadata": {
    "collapsed": false
   },
   "outputs": [
    {
     "data": {
      "application/vnd.jupyter.widget-view+json": {
       "model_id": "3bdd0206fe1f4b5bb06ac70ccc7aea54"
      }
     },
     "metadata": {},
     "output_type": "display_data"
    }
   ],
   "source": [
    "@interact\n",
    "def _(x0 = slider(0,10,10/100.0),\n",
    "    x1 = slider(0,1,1/100.0),\n",
    "    sim_duration = slider(10,30,default=10,label=\"Simulation duration\"),\n",
    "    sim_nb_samples = slider(10,100, default=100,label=\"Samples number\"),\n",
    "    steptime = slider(0,10,default=5,label='Step time'),\n",
    "    stepgain = slider(-5,5,default=2,label='Step gain'),\n",
    "    R = slider(0,2,2/100.0,default=1,label='R'),\n",
    "    K = slider(0,0.02,0.02/100.0,default=0.01),\n",
    "    L = slider(0.5/100,1,1/100.0,default=0.5),\n",
    "    J = slider(0.01/100.0,0.02,0.02/100.0,default=0.01),\n",
    "    f = slider(0,0.2,0.2/100.0,default=0.1)):\n",
    "\n",
    "    A = matrix([[ -R/L, -K/L ],\n",
    "            [ K/J , -f/J ]])\n",
    "    \n",
    "    B = matrix([[ 1/L , 0    ],\n",
    "                [ 0   , -1/J ]])\n",
    "\n",
    "    C = matrix([[ 1 , 0  ],\n",
    "                [ 0 , 1  ],\n",
    "                [ -R, -K ]])\n",
    "\n",
    "    D = matrix([[ 0, 0 ],\n",
    "                [ 0, 0 ],\n",
    "                [ 1, 0 ]])\n",
    "\n",
    "    ss_mcc = signal.lti(A,B,C,D)\n",
    "    \n",
    "    t = np.linspace(0,sim_duration,sim_nb_samples)\n",
    "    u1 = [stepgain*heaviside(x-steptime) for x in np.nditer(t)]\n",
    "    u2 = np.array(np.zeros_like(t))\n",
    "    U=np.vstack((u1,u2)).transpose()\n",
    "    X0 = (x0,x1)\n",
    "    tout, Y, X = signal.lsim(ss_mcc, U, t, X0)\n",
    "\n",
    "    # Plot help  : http://sage.brandoncurtis.com/plotting.html\n",
    "    # Plot help2 : http://doc.sagemath.org/html/en/reference/plotting/sage/plot/plot.html\n",
    "    # Matplotlib examples : http://matplotlib.org/examples/index.html\n",
    "    \n",
    "    f, axarr = plt.subplots(3, sharex=True, figsize=(10,6))\n",
    "    \n",
    "    axarr[0].plot(t, Y[:,0], 'b')\n",
    "    axarr[0].grid(True)\n",
    "    axarr[0].set_ylabel('$i_{obs}(t)$',fontsize=20)\n",
    "\n",
    "    axarr[1].plot(t, Y[:,1], 'r')\n",
    "    axarr[1].grid(True)\n",
    "    axarr[1].set_ylabel('$\\omega_{R_{obs}}(t)$',fontsize=20)\n",
    "    \n",
    "    axarr[2].plot(t, Y[:,2], 'g')\n",
    "    axarr[2].grid(True)\n",
    "    axarr[2].set_ylabel('$V_{L_{obs}}(t)$',fontsize=20)\n",
    "    \n",
    "    plt.xlabel('Time (s)',fontsize=16)\n",
    "    \n",
    "    f.subplots_adjust(hspace=0.3)\n",
    "    \n",
    "    plt.show()"
   ]
  },
  {
   "cell_type": "markdown",
   "metadata": {},
   "source": [
    "## RRA"
   ]
  },
  {
   "cell_type": "code",
   "execution_count": 61,
   "metadata": {
    "collapsed": false
   },
   "outputs": [
    {
     "data": {
      "application/vnd.jupyter.widget-view+json": {
       "model_id": "6782ff5a2fb041f0a254bbb7838b96d0"
      }
     },
     "metadata": {},
     "output_type": "display_data"
    }
   ],
   "source": [
    "@interact\n",
    "def _(x0 = slider(0,10,10/100.0),\n",
    "    x1 = slider(0,1,1/100.0),\n",
    "    sim_duration = slider(10,30,default=10,label=\"Simulation duration\"),\n",
    "    sim_nb_samples = slider(10,100, default=100,label=\"Samples number\"),\n",
    "    steptime = slider(0,10,default=5,label='Step time'),\n",
    "    stepgain = slider(-5,5,default=2,label='Step gain'),\n",
    "    R = slider(0,2,2/100.0,default=1,label='R'),\n",
    "    K = slider(0,0.02,0.02/100.0,default=0.01),\n",
    "    L = slider(0.5/100,1,1/100.0,default=0.5),\n",
    "    J = slider(0.01/100.0,0.02,0.02/100.0,default=0.01),\n",
    "    f = slider(0,0.2,0.2/100.0,default=0.1)):\n",
    "\n",
    "    ##### Modèle oracle\n",
    "    A = matrix([[ -R/L, -K/L ],\n",
    "            [ K/J , -f/J ]])\n",
    "    \n",
    "    B = matrix([[ 1/L , 0    ],\n",
    "                [ 0   , -1/J ]])\n",
    "\n",
    "    C = matrix([[ 1 , 0  ],\n",
    "                [ 0 , 1  ],\n",
    "                [ -R, -K ]])\n",
    "\n",
    "    D = matrix([[ 0, 0 ],\n",
    "                [ 0, 0 ],\n",
    "                [ 1, 0 ]])\n",
    "\n",
    "    ##### Modèle défectueux\n",
    "    Af = matrix([[ -R*1.3/L, -K/L+1 ],\n",
    "            [ K/J , -f/J ]])\n",
    "    \n",
    "    Bf = matrix([[ 1.2/L , 0    ],\n",
    "                [ 0   , -1/J ]])\n",
    "\n",
    "    Cf = matrix([[ 1 , 0  ],\n",
    "                [ 0 , 1  ],\n",
    "                [ -R, -K ]])\n",
    "\n",
    "    Df = matrix([[ 0, 0 ],\n",
    "                [ 0, 0 ],\n",
    "                [ 1, 0 ]])\n",
    "    \n",
    "    ss_mcc = signal.lti(A,B,C,D)\n",
    "    ss_faulty_mcc = signal.lti(Af,Bf,Cf,Df)\n",
    "    \n",
    "    t = np.linspace(0,sim_duration,sim_nb_samples)\n",
    "    u1 = [stepgain*heaviside(x-steptime) for x in np.nditer(t)]\n",
    "    u2 = np.array(np.zeros_like(t))\n",
    "    U=np.vstack((u1,u2)).transpose()\n",
    "    X0 = (x0,x1)\n",
    "    tout, Y, X = signal.lsim(ss_mcc, U, t, X0)\n",
    "    tout, Yobs, Xobs = signal.lsim(ss_faulty_mcc, U, t, X0)\n",
    "\n",
    "    # Plot help  : http://sage.brandoncurtis.com/plotting.html\n",
    "    # Plot help2 : http://doc.sagemath.org/html/en/reference/plotting/sage/plot/plot.html\n",
    "    # Matplotlib examples : http://matplotlib.org/examples/index.html\n",
    "    \n",
    "    var('i_obs,omega_R_obs,V_L_obs,V_S')\n",
    "    r_1 = [(R*i_obs + K*w_R_obs + V_L_obs - V_S) for i_obs,w_R_obs,V_L_obs,V_S in zip(Yobs[:,0],Yobs[:,1],Yobs[:,2],U[:,0])]\n",
    "    r_2 = [(i_obs - i) for i_obs,i in zip(Yobs[:,0],X[:,0])]\n",
    "    r_3 = [(w_R_obs - w_R) for w_R_obs,w_R in zip(Yobs[:,1],X[:,1])]\n",
    "    \n",
    "    f, axarr = plt.subplots(3, sharex=True, figsize=(10,6))\n",
    "    \n",
    "    axarr[0].plot(t, r_1, 'b')\n",
    "    axarr[0].grid(True)\n",
    "    axarr[0].set_ylabel('$r_{1}(t)$',fontsize=20)\n",
    "\n",
    "    axarr[1].plot(t, r_2, 'r')\n",
    "    axarr[1].grid(True)\n",
    "    axarr[1].set_ylabel('$r_{2}(t)$',fontsize=20)\n",
    "    \n",
    "    axarr[2].plot(t, r_3, 'g')\n",
    "    axarr[2].grid(True)\n",
    "    axarr[2].set_ylabel('$r_{3}(t)$',fontsize=20)\n",
    "    \n",
    "    plt.xlabel('Time (s)',fontsize=16)\n",
    "    \n",
    "    f.subplots_adjust(hspace=0.3)\n",
    "    \n",
    "    plt.show()"
   ]
  },
  {
   "cell_type": "code",
   "execution_count": null,
   "metadata": {
    "collapsed": true
   },
   "outputs": [],
   "source": []
  }
 ],
 "metadata": {
  "kernelspec": {
   "display_name": "SageMath 7.6",
   "language": "",
   "name": "sagemath"
  },
  "language_info": {
   "codemirror_mode": {
    "name": "ipython",
    "version": 2
   },
   "file_extension": ".py",
   "mimetype": "text/x-python",
   "name": "python",
   "nbconvert_exporter": "python",
   "pygments_lexer": "ipython2",
   "version": "2.7.13"
  }
 },
 "nbformat": 4,
 "nbformat_minor": 2
}
