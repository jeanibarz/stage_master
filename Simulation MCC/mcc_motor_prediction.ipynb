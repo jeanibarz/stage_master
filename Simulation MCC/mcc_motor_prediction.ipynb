{
 "cells": [
  {
   "cell_type": "code",
   "execution_count": 1,
   "metadata": {
    "collapsed": true
   },
   "outputs": [],
   "source": [
    "import numpy as np\n",
    "%matplotlib inline\n",
    "import matplotlib.pyplot as plt\n",
    "from scipy.integrate import odeint"
   ]
  },
  {
   "cell_type": "markdown",
   "metadata": {
    "deletable": true,
    "editable": true
   },
   "source": [
    "# When Models hurt prediction : a DC motor trial (p.132/155)"
   ]
  },
  {
   "cell_type": "markdown",
   "metadata": {},
   "source": [
    "## Définition du modèle et simulation"
   ]
  },
  {
   "cell_type": "markdown",
   "metadata": {},
   "source": [
    "Modèle sous forme d'espace d'état :\n",
    "\n",
    "$\\begin{cases}\n",
    "\\frac{d}{dt}\\begin{bmatrix}i(t)\\\\\n",
    "\\omega_{R}(t)\n",
    "\\end{bmatrix} & =\\begin{bmatrix}-\\frac{R}{L} & -\\frac{K}{L}\\\\\n",
    "\\frac{K}{J} & -\\frac{f}{J}\n",
    "\\end{bmatrix}\\begin{bmatrix}i(t)\\\\\n",
    "\\omega_{R}(t)\n",
    "\\end{bmatrix}+\\begin{bmatrix}\\frac{1}{L} & 0\\\\\n",
    "0 & -\\frac{1}{J}\n",
    "\\end{bmatrix}\\begin{bmatrix}V_{S}(t)\\\\\n",
    "\\tau_{L}(t)\n",
    "\\end{bmatrix}\\\\\n",
    "\\begin{bmatrix}i_{obs}(t)\\\\\n",
    "\\omega_{Robs}(t)\\\\\n",
    "V_{Lobs}(t)\n",
    "\\end{bmatrix} & =\\begin{bmatrix}1 & 0\\\\\n",
    "0 & 1\\\\\n",
    "-R & -K\n",
    "\\end{bmatrix}\\begin{bmatrix}i(t)\\\\\n",
    "\\omega_{R}(t)\n",
    "\\end{bmatrix}+\\begin{bmatrix}0 & 0\\\\\n",
    "0 & 0\\\\\n",
    "1 & 0\n",
    "\\end{bmatrix}\\begin{bmatrix}V_{S}(t)\\\\\n",
    "\\tau_{L}(t)\n",
    "\\end{bmatrix}\n",
    "\\end{cases}$"
   ]
  },
  {
   "cell_type": "code",
   "execution_count": 14,
   "metadata": {
    "collapsed": false,
    "deletable": true,
    "editable": true
   },
   "outputs": [],
   "source": [
    "def mcc(X,t):\n",
    "    ##### Etats\n",
    "    i = X[0]\n",
    "    w_R = X[1]\n",
    "    \n",
    "    ##### Constantes\n",
    "    R = 1\n",
    "    K = 1\n",
    "    L = 1\n",
    "    J = 1\n",
    "    f = 1\n",
    "    \n",
    "    ##### Entrées\n",
    "    if t>5:\n",
    "        V_S = 5\n",
    "    else:\n",
    "        V_S = 0.0\n",
    "    tau_L = 0\n",
    "    \n",
    "    ##### ODE's\n",
    "    didt = -R/L*i -K/L*w_R + 1/L*V_S\n",
    "    dw_Rdt = K/J*i -f/J*w_R -1/J*tau_L\n",
    "    dXdt = [didt,dw_Rdt]\n",
    "    return dXdt\n",
    "\n",
    "X0 = [0,0]\n",
    "t = np.linspace(0,20,100)\n",
    "y = odeint(mcc,X0,t,hmax=0.1)"
   ]
  },
  {
   "cell_type": "markdown",
   "metadata": {},
   "source": [
    "## Résultats"
   ]
  },
  {
   "cell_type": "code",
   "execution_count": 16,
   "metadata": {
    "collapsed": false
   },
   "outputs": [
    {
     "data": {
      "image/png": "[encoded data removed]",
      "text/plain": [
       "<matplotlib.figure.Figure object at 0x96182f4c>"
      ]
     },
     "metadata": {},
     "output_type": "display_data"
    }
   ],
   "source": [
    "plt.plot(t,y[:,0],'b-');\n",
    "plt.plot(t,y[:,1],'r--');"
   ]
  },
  {
   "cell_type": "code",
   "execution_count": null,
   "metadata": {
    "collapsed": true
   },
   "outputs": [],
   "source": []
  }
 ],
 "metadata": {
  "kernelspec": {
   "display_name": "SageMath 7.6",
   "language": "",
   "name": "sagemath"
  },
  "language_info": {
   "codemirror_mode": {
    "name": "ipython",
    "version": 2
   },
   "file_extension": ".py",
   "mimetype": "text/x-python",
   "name": "python",
   "nbconvert_exporter": "python",
   "pygments_lexer": "ipython2",
   "version": "2.7.13"
  }
 },
 "nbformat": 4,
 "nbformat_minor": 2
}
