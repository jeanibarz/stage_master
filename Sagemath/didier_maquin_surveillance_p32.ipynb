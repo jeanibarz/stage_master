{
 "cells": [
  {
   "cell_type": "code",
   "execution_count": 38,
   "metadata": {
    "collapsed": false
   },
   "outputs": [
    {
     "data": {
      "text/html": [
       "<html><script type=\"math/tex; mode=display\">\\newcommand{\\Bold}[1]{\\mathbf{#1}}\\left(\\begin{array}{rrr}\n",
       "1 & 1 & 0 \\\\\n",
       "0 & 1 & 1 \\\\\n",
       "\\alpha & 0 & 0 \\\\\n",
       "0 & \\beta & 0 \\\\\n",
       "0 & 0 & \\gamma\n",
       "\\end{array}\\right)</script></html>"
      ],
      "text/plain": [
       "[    1     1     0]\n",
       "[    0     1     1]\n",
       "[alpha     0     0]\n",
       "[    0  beta     0]\n",
       "[    0     0 gamma]"
      ]
     },
     "metadata": {},
     "output_type": "display_data"
    }
   ],
   "source": [
    "# Définition de la matrice symbolique H\n",
    "var('alpha, beta, gamma');\n",
    "H=matrix([[1,1,0],[0,1,1],[alpha,0,0],[0,beta,0],[0,0,gamma]])\n",
    "show(H)"
   ]
  },
  {
   "cell_type": "code",
   "execution_count": 76,
   "metadata": {
    "collapsed": false
   },
   "outputs": [
    {
     "data": {
      "text/html": [
       "<html><script type=\"math/tex; mode=display\">\\newcommand{\\Bold}[1]{\\mathbf{#1}}\\mathrm{RowSpan}_{\\text{SR}}\\left(\\begin{array}{rrrrr}\n",
       "1 & 0 & -\\frac{1}{\\alpha} & -\\frac{1}{\\beta} & 0 \\\\\n",
       "0 & 1 & 0 & -\\frac{1}{\\beta} & -\\frac{1}{\\gamma}\n",
       "\\end{array}\\right)</script></html>"
      ],
      "text/plain": [
       "Vector space of degree 5 and dimension 2 over Symbolic Ring\n",
       "Basis matrix:\n",
       "[       1        0 -1/alpha  -1/beta        0]\n",
       "[       0        1        0  -1/beta -1/gamma]"
      ]
     },
     "metadata": {},
     "output_type": "display_data"
    }
   ],
   "source": [
    "# Calcul du noyau à gauche\n",
    "Omega=H.left_kernel()\n",
    "show(Omega)"
   ]
  },
  {
   "cell_type": "code",
   "execution_count": 79,
   "metadata": {
    "collapsed": false
   },
   "outputs": [
    {
     "data": {
      "text/html": [
       "<html><script type=\"math/tex; mode=display\">\\newcommand{\\Bold}[1]{\\mathbf{#1}}\\left(r,\\,s,\\,-\\frac{r}{\\alpha},\\,-\\frac{r + s}{\\beta},\\,-\\frac{s}{\\gamma}\\right)</script></html>"
      ],
      "text/plain": [
       "(r, s, -r/alpha, -(r + s)/beta, -s/gamma)"
      ]
     },
     "metadata": {},
     "output_type": "display_data"
    }
   ],
   "source": [
    "# Les solutions sont les vecteurs générés\n",
    "# par combinaison linéaire des lignes précédentes\n",
    "# On va chercher une forme paramétrique en (r,s)...\n",
    "var('r,s');\n",
    "Omega_param=Omega.linear_combination_of_basis([r,s])\n",
    "show(Omega_param.simplify_full())"
   ]
  }
 ],
 "metadata": {
  "kernelspec": {
   "display_name": "SageMath 7.6",
   "language": "",
   "name": "sagemath"
  },
  "language_info": {
   "codemirror_mode": {
    "name": "ipython",
    "version": 2
   },
   "file_extension": ".py",
   "mimetype": "text/x-python",
   "name": "python",
   "nbconvert_exporter": "python",
   "pygments_lexer": "ipython2",
   "version": "2.7.13"
  }
 },
 "nbformat": 4,
 "nbformat_minor": 2
}
