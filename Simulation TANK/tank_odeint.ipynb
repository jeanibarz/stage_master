{
 "cells": [
  {
   "cell_type": "code",
   "execution_count": 1,
   "metadata": {
    "collapsed": true
   },
   "outputs": [],
   "source": [
    "import numpy as np\n",
    "%matplotlib inline\n",
    "import matplotlib.pyplot as plt\n",
    "from scipy.integrate import odeint"
   ]
  },
  {
   "cell_type": "markdown",
   "metadata": {},
   "source": [
    "# ODE's du système"
   ]
  },
  {
   "cell_type": "markdown",
   "metadata": {},
   "source": [
    "$\\begin{cases}\n",
    "\\dot{h}_{1}(t)=\\frac{1}{A_{c}}\\times\\left(q_{in}(t)-c_{1}\\sqrt{h_{1}(t)}\\right)\\\\\n",
    "\\dot{h}_{2}(t)=\\frac{1}{A_{c}}\\times\\left(c_{1}\\sqrt{h_{1}(t)}-c_{2}\\sqrt{h_{2}(t)}\\right)\n",
    "\\end{cases}$"
   ]
  },
  {
   "cell_type": "markdown",
   "metadata": {},
   "source": [
    "# Code pour la simulation"
   ]
  },
  {
   "cell_type": "code",
   "execution_count": 56,
   "metadata": {
    "collapsed": false
   },
   "outputs": [],
   "source": [
    "# Source : https://www.youtube.com/watch?v=U7uyj9BaNKg\n",
    "def tank(h,t):\n",
    "    c1 = 0.13\n",
    "    c2 = 0.20\n",
    "    Ac = 2.0\n",
    "    if t>0.5:\n",
    "        qin = 0.5\n",
    "    else:\n",
    "        qin = 1.0\n",
    "    qout1 = c1 * h[0]**0.5\n",
    "    qout2 = c2 * h[1]**0.5\n",
    "    dhdt1 = (qin-qout1)/Ac\n",
    "    dhdt2 = (qout1-qout2)/Ac\n",
    "    if h[0]>=1 and dhdt1>0:\n",
    "        dhdt1 = 0\n",
    "    if h[1]>=1 and dhdt2>0:\n",
    "        dhdt2 = 0\n",
    "    dhdt = [dhdt1,dhdt2]\n",
    "    return dhdt\n",
    "\n",
    "h0 = [0,0]\n",
    "t = np.linspace(0,10,100)\n",
    "y = odeint(tank,h0,t,hmax=0.1)"
   ]
  },
  {
   "cell_type": "code",
   "execution_count": 57,
   "metadata": {
    "collapsed": false
   },
   "outputs": [
    {
     "data": {
      "image/png": "[encoded data removed]",
      "text/plain": [
       "<matplotlib.figure.Figure object at 0x91cfe96c>"
      ]
     },
     "metadata": {},
     "output_type": "display_data"
    }
   ],
   "source": [
    "plt.plot(t,y[:,0],'b-');\n",
    "plt.plot(t,y[:,1],'r--');"
   ]
  },
  {
   "cell_type": "code",
   "execution_count": null,
   "metadata": {
    "collapsed": true
   },
   "outputs": [],
   "source": []
  }
 ],
 "metadata": {
  "kernelspec": {
   "display_name": "SageMath 7.6",
   "language": "",
   "name": "sagemath"
  },
  "language_info": {
   "codemirror_mode": {
    "name": "ipython",
    "version": 2
   },
   "file_extension": ".py",
   "mimetype": "text/x-python",
   "name": "python",
   "nbconvert_exporter": "python",
   "pygments_lexer": "ipython2",
   "version": "2.7.13"
  }
 },
 "nbformat": 4,
 "nbformat_minor": 2
}
